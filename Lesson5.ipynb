{
 "cells": [
  {
   "cell_type": "code",
   "execution_count": 1,
   "metadata": {},
   "outputs": [],
   "source": [
    "%matplotlib inline\n",
    "import numpy as np\n",
    "import matplotlib.pyplot as plt\n",
    "import matplotlib.mlab as mlab"
   ]
  },
  {
   "cell_type": "markdown",
   "metadata": {},
   "source": [
    "# Напишите код, моделирующий выпадение поля в рулетке (с учетом поля зеро)"
   ]
  },
  {
   "cell_type": "code",
   "execution_count": 2,
   "metadata": {},
   "outputs": [
    {
     "name": "stdout",
     "output_type": "stream",
     "text": [
      "\n",
      "BLACK\n",
      "\n",
      "BLACK\n",
      "\n",
      "RED\n",
      "\n",
      "RED\n",
      "\n",
      "RED\n",
      "\n",
      "BLACK\n",
      "\n",
      "RED\n",
      "\n",
      "BLACK\n",
      "\n",
      "RED\n",
      "\n",
      "RED\n"
     ]
    }
   ],
   "source": [
    "for i in range(0,10):\n",
    "    a = input()\n",
    "    x = np.random.uniform(0, 36)\n",
    "    if x == 0:\n",
    "        print(\"Zero\")\n",
    "    elif x == 1:\n",
    "        print(x)\n",
    "    elif x == 2:\n",
    "        print(x)\n",
    "    elif x == 3:\n",
    "        print(x)\n",
    "    elif x == 4:\n",
    "        print(x)\n",
    "    elif x == 5:\n",
    "        print(x)\n",
    "    elif x == 6:\n",
    "        print(x)\n",
    "    elif x == 7:\n",
    "        print(x)\n",
    "    elif x == 8:\n",
    "        print(x)\n",
    "    elif x == 9:\n",
    "        print(x)\n",
    "    elif x == 10:\n",
    "        print(x)\n",
    "    elif x == 11:\n",
    "        print(x)\n",
    "    elif x == 12:\n",
    "        print(x)\n",
    "    elif x == 13:\n",
    "        print(x)\n",
    "    elif x == 14:\n",
    "        print(x)\n",
    "    elif x == 15:\n",
    "        print(x)\n",
    "    elif x == 16:\n",
    "        print(x)\n",
    "    elif x == 17:\n",
    "        print(x)\n",
    "    elif x == 18:\n",
    "        print(x)\n",
    "    elif x == 19:\n",
    "        print(x)\n",
    "    elif x == 20:\n",
    "        print(x)\n",
    "    elif x == 21:\n",
    "        print(x)\n",
    "    elif x == 22:\n",
    "        print(x)\n",
    "    elif x == 23:\n",
    "        print(x)\n",
    "    elif x == 24:\n",
    "        print(x)\n",
    "    elif x == 25:\n",
    "        print(x)\n",
    "    elif x == 26:\n",
    "        print(x)\n",
    "    elif x == 27:\n",
    "        print(x)\n",
    "    elif x == 28:\n",
    "        print(x)\n",
    "    elif x == 29:\n",
    "        print(x)\n",
    "    elif x == 30:\n",
    "        print(x)\n",
    "    elif x == 31:\n",
    "        print(x)\n",
    "    elif x == 32:\n",
    "        print(x)\n",
    "    elif x == 33:\n",
    "        print(x)\n",
    "    elif x == 34:\n",
    "        print(x)\n",
    "    elif x == 35:\n",
    "        print(x)\n",
    "    elif x == 36:\n",
    "        print(x)\n",
    "    elif 0 < x < 1 or 2 < x < 3 or 4 < x < 5 or 6 < x < 7 or 8 < x < 9 or 11 < x < 12 or 13 < x < 14 or 15 < x < 16 or 17 < x < 18 or 18 < x < 19 or 20 < x < 21 or 22 < x < 23 or 24 < x < 25 or 26 < x < 27 or 29 < x < 30 or 31 < x < 32 or 33 < x < 34 or 35 < x < 36:\n",
    "        print(\"RED\")\n",
    "    elif 1 < x < 2 or 3 < x < 4 or 5 < x < 6 or 7 < x < 8 or 9 < x < 10 or 10 < x < 11 or 12 < x < 13 or 14 < x < 15 or 16 < x < 17 or 19 < x < 20 or 21 < x < 22 or 23 < x < 24 or 25 < x < 26 or 27 < x < 28 or 28 < x < 29 or 30 < x < 31 or 32 < x < 33 or 34 < x < 35:\n",
    "        print(\"BLACK\")\n",
    "    else:\n",
    "        print(x)    "
   ]
  },
  {
   "cell_type": "markdown",
   "metadata": {},
   "source": [
    "# Напишите код, проверяющий любую из теорем сложения или умножения вероятности на примере рулетки или подбрасывания монетки"
   ]
  },
  {
   "cell_type": "code",
   "execution_count": 3,
   "metadata": {},
   "outputs": [
    {
     "name": "stdout",
     "output_type": "stream",
     "text": [
      "5116\n",
      "4884\n",
      "1.0\n"
     ]
    }
   ],
   "source": [
    "orel = 0\n",
    "reshka = 0\n",
    "for i in range(0, 10000):\n",
    "    x = np.random.uniform(0, 10)\n",
    "    if x < 5:\n",
    "        orel += 1\n",
    "    else:\n",
    "        reshka += 1\n",
    "print(orel)\n",
    "print(reshka)\n",
    "print(orel / 10000 + reshka / 10000)"
   ]
  },
  {
   "cell_type": "markdown",
   "metadata": {},
   "source": [
    "# Сгенерируйте десять выборок случайных чисел х0, …, х9.  и постройте гистограмму распределения случайной суммы х0+х1+ …+ х9.\n"
   ]
  },
  {
   "cell_type": "code",
   "execution_count": 4,
   "metadata": {},
   "outputs": [
    {
     "name": "stdout",
     "output_type": "stream",
     "text": [
      "x 0  =  4.806314270178031\n",
      "x 1  =  5.322669451573452\n",
      "x 2  =  4.037208613554406\n",
      "x 3  =  5.650909154115709\n",
      "x 4  =  4.452843014685839\n",
      "x 5  =  3.930326894133665\n",
      "x 6  =  2.8603491935099687\n",
      "x 7  =  4.883219904478549\n",
      "x 8  =  5.403222963682251\n",
      "x 9  =  5.7223674381579634\n",
      "[4.806314270178031, 5.322669451573452, 4.037208613554406, 5.650909154115709, 4.452843014685839, 3.930326894133665, 2.8603491935099687, 4.883219904478549, 5.403222963682251, 5.7223674381579634]\n"
     ]
    },
    {
     "data": {
      "text/plain": [
       "Text(0.5, 1.0, 'Histogram')"
      ]
     },
     "execution_count": 4,
     "metadata": {},
     "output_type": "execute_result"
    },
    {
     "data": {
      "image/png": "[encoded data removed]",
      "text/plain": [
       "<Figure size 432x288 with 1 Axes>"
      ]
     },
     "metadata": {
      "needs_background": "light"
     },
     "output_type": "display_data"
    }
   ],
   "source": [
    "x = []\n",
    "for i in range(10):\n",
    "    xi = np.random.rand(10)\n",
    "    print('x',i,' = ',sum(xi))\n",
    "    x.append(sum(xi))\n",
    "print(x)\n",
    "num_bins = 5\n",
    "n, bins, pathes = plt.hist(x, num_bins)\n",
    "plt.xlabel('x')\n",
    "plt.ylabel('y')\n",
    "plt.title('Histogram')"
   ]
  },
  {
   "cell_type": "markdown",
   "metadata": {},
   "source": [
    "# Дополните код Монте-Карло последовательности независимых испытаний расчетом соответствующих вероятностей (через биномиальное распределение) и сравните результаты."
   ]
  },
  {
   "cell_type": "code",
   "execution_count": 5,
   "metadata": {},
   "outputs": [],
   "source": [
    "import itertools\n",
    "import math"
   ]
  },
  {
   "cell_type": "code",
   "execution_count": 6,
   "metadata": {},
   "outputs": [
    {
     "name": "stdout",
     "output_type": "stream",
     "text": [
      "3773 10000 0.3773 0.375\n"
     ]
    }
   ],
   "source": [
    "k, n = 0, 10000\n",
    "a = np.random.randint(0, 2, n)\n",
    "b = np.random.randint(0, 2, n)\n",
    "c = np.random.randint(0, 2, n)\n",
    "d = np.random.randint(0, 2, n)\n",
    "x = a + b + c + d\n",
    "for i in range(0, n):\n",
    "    if x[i] == 2:\n",
    "        k += 1\n",
    "P = (math.factorial(4)/(math.factorial(2)*math.factorial(4-2)))*(0.5**2)*(1-0.5)**(4-2)\n",
    "print(k, n, k/n, P)"
   ]
  },
  {
   "cell_type": "markdown",
   "metadata": {},
   "source": [
    "# Повторите расчеты биномиальных коэффициентов и вероятностей k успехов в последовательности из n независимых испытаний, взяв другие значения n и k"
   ]
  },
  {
   "cell_type": "code",
   "execution_count": 7,
   "metadata": {},
   "outputs": [
    {
     "name": "stdout",
     "output_type": "stream",
     "text": [
      "0.109375\n"
     ]
    }
   ],
   "source": [
    "P2 = (math.factorial(8)/(math.factorial(2)*math.factorial(8-2)))*(0.5**2)*(1-0.5)**(8-2)\n",
    "print(P2)"
   ]
  },
  {
   "cell_type": "markdown",
   "metadata": {},
   "source": [
    "#  Из урока по комбинаторике повторите расчеты, сгенерировав возможные варианты перестановок для других значений n и k"
   ]
  },
  {
   "cell_type": "code",
   "execution_count": 8,
   "metadata": {},
   "outputs": [
    {
     "name": "stdout",
     "output_type": "stream",
     "text": [
      "012\n",
      "013\n",
      "021\n",
      "023\n",
      "031\n",
      "032\n",
      "102\n",
      "103\n",
      "120\n",
      "123\n",
      "130\n",
      "132\n",
      "201\n",
      "203\n",
      "210\n",
      "213\n",
      "230\n",
      "231\n",
      "301\n",
      "302\n",
      "310\n",
      "312\n",
      "320\n",
      "321\n"
     ]
    }
   ],
   "source": [
    "for p in itertools.permutations('0123', 3):\n",
    "    print(''.join(str(x) for x in p))"
   ]
  },
  {
   "cell_type": "code",
   "execution_count": 9,
   "metadata": {},
   "outputs": [
    {
     "name": "stdout",
     "output_type": "stream",
     "text": [
      "012\n",
      "013\n",
      "023\n",
      "123\n"
     ]
    }
   ],
   "source": [
    "for p in itertools.combinations('0123', 3):\n",
    "    print(''.join(p))"
   ]
  },
  {
   "cell_type": "code",
   "execution_count": 10,
   "metadata": {},
   "outputs": [
    {
     "name": "stdout",
     "output_type": "stream",
     "text": [
      "000\n",
      "001\n",
      "002\n",
      "003\n",
      "010\n",
      "011\n",
      "012\n",
      "013\n",
      "020\n",
      "021\n",
      "022\n",
      "023\n",
      "030\n",
      "031\n",
      "032\n",
      "033\n",
      "100\n",
      "101\n",
      "102\n",
      "103\n",
      "110\n",
      "111\n",
      "112\n",
      "113\n",
      "120\n",
      "121\n",
      "122\n",
      "123\n",
      "130\n",
      "131\n",
      "132\n",
      "133\n",
      "200\n",
      "201\n",
      "202\n",
      "203\n",
      "210\n",
      "211\n",
      "212\n",
      "213\n",
      "220\n",
      "221\n",
      "222\n",
      "223\n",
      "230\n",
      "231\n",
      "232\n",
      "233\n",
      "300\n",
      "301\n",
      "302\n",
      "303\n",
      "310\n",
      "311\n",
      "312\n",
      "313\n",
      "320\n",
      "321\n",
      "322\n",
      "323\n",
      "330\n",
      "331\n",
      "332\n",
      "333\n"
     ]
    }
   ],
   "source": [
    "for p in itertools.product('0123', repeat=3):\n",
    "    print(''.join(p))"
   ]
  },
  {
   "cell_type": "markdown",
   "metadata": {},
   "source": [
    "# Дополните код расчетом коэффициента корреляции x и y по формуле"
   ]
  },
  {
   "cell_type": "code",
   "execution_count": 11,
   "metadata": {},
   "outputs": [
    {
     "name": "stdout",
     "output_type": "stream",
     "text": [
      "0.8585559289923983 0.08668208272718701\n",
      "0.6819892133845642 0.17267769335105337\n",
      "1.6540680271040982e+29\n"
     ]
    },
    {
     "name": "stderr",
     "output_type": "stream",
     "text": [
      "C:\\Users\\avoloshin\\AppData\\Local\\Continuum\\anaconda3\\lib\\site-packages\\ipykernel_launcher.py:16: FutureWarning: `rcond` parameter will change to the default of machine precision times ``max(M, N)`` where M and N are the input matrix dimensions.\n",
      "To use the future default and silence this warning we advise to pass `rcond=None`, to keep using the old, explicitly pass `rcond=-1`.\n",
      "  app.launch_new_instance()\n"
     ]
    },
    {
     "data": {
      "image/png": "[encoded data removed]",
      "text/plain": [
       "<Figure size 432x288 with 1 Axes>"
      ]
     },
     "metadata": {
      "needs_background": "light"
     },
     "output_type": "display_data"
    }
   ],
   "source": [
    "n = 100\n",
    "r = 0.7\n",
    "x = np.random.rand(n)\n",
    "y = r*x + (1 - r)*np.random.rand(n)\n",
    "plt.plot(x, y, 'o')\n",
    "plt.xlabel('x')\n",
    "plt.ylabel('y')\n",
    "plt.grid(True)\n",
    "\n",
    "a = (np.sum(x)*np.sum(y) - n*np.sum(x*y))/(np.sum(x)*np.sum(x) - n*np.sum(x*y))\n",
    "b = (np.sum(y) - a*np.sum(x))/n\n",
    "\n",
    "R = np.sum((x - np.mean(x))*(y - np.mean(y)))/((np.sum(x - np.mean(x))**2)*(np.sum(y - np.mean(y))**2))**0.5\n",
    "\n",
    "A = np.vstack([x, np.ones(len(x))]).T\n",
    "a1, b1 = np.linalg.lstsq(A, y)[0]\n",
    "print(a, b)\n",
    "print(a1, b1)\n",
    "print(R)\n",
    "plt.plot([0, 1], [b, a + b])\n",
    "plt.show()"
   ]
  }
 ],
 "metadata": {
  "kernelspec": {
   "display_name": "Python 3",
   "language": "python",
   "name": "python3"
  },
  "language_info": {
   "codemirror_mode": {
    "name": "ipython",
    "version": 3
   },
   "file_extension": ".py",
   "mimetype": "text/x-python",
   "name": "python",
   "nbconvert_exporter": "python",
   "pygments_lexer": "ipython3",
   "version": "3.7.3"
  }
 },
 "nbformat": 4,
 "nbformat_minor": 2
}
