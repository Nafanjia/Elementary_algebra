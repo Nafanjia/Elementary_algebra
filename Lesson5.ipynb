{
 "cells": [
  {
   "cell_type": "code",
   "execution_count": 41,
   "metadata": {},
   "outputs": [],
   "source": [
    "%matplotlib inline\n",
    "import numpy as np\n",
    "import matplotlib.pyplot as plt\n",
    "import matplotlib.mlab as mlab"
   ]
  },
  {
   "cell_type": "markdown",
   "metadata": {},
   "source": [
    "# Напишите код, моделирующий выпадение поля в рулетке (с учетом поля зеро)"
   ]
  },
  {
   "cell_type": "code",
   "execution_count": 42,
   "metadata": {},
   "outputs": [
    {
     "name": "stdout",
     "output_type": "stream",
     "text": [
      "\n",
      "RED\n",
      "\n",
      "RED\n",
      "\n",
      "BLACK\n",
      "\n",
      "BLACK\n",
      "\n",
      "BLACK\n",
      "\n",
      "BLACK\n",
      "\n",
      "BLACK\n",
      "\n",
      "BLACK\n",
      "\n",
      "RED\n",
      "\n",
      "BLACK\n"
     ]
    }
   ],
   "source": [
    "for i in range(0,10):\n",
    "    a = input()\n",
    "    x = np.random.uniform(0, 36)\n",
    "    if x == 0:\n",
    "        print(\"Zero\")\n",
    "    elif x == 1:\n",
    "        print(x)\n",
    "    elif x == 2:\n",
    "        print(x)\n",
    "    elif x == 3:\n",
    "        print(x)\n",
    "    elif x == 4:\n",
    "        print(x)\n",
    "    elif x == 5:\n",
    "        print(x)\n",
    "    elif x == 6:\n",
    "        print(x)\n",
    "    elif x == 7:\n",
    "        print(x)\n",
    "    elif x == 8:\n",
    "        print(x)\n",
    "    elif x == 9:\n",
    "        print(x)\n",
    "    elif x == 10:\n",
    "        print(x)\n",
    "    elif x == 11:\n",
    "        print(x)\n",
    "    elif x == 12:\n",
    "        print(x)\n",
    "    elif x == 13:\n",
    "        print(x)\n",
    "    elif x == 14:\n",
    "        print(x)\n",
    "    elif x == 15:\n",
    "        print(x)\n",
    "    elif x == 16:\n",
    "        print(x)\n",
    "    elif x == 17:\n",
    "        print(x)\n",
    "    elif x == 18:\n",
    "        print(x)\n",
    "    elif x == 19:\n",
    "        print(x)\n",
    "    elif x == 20:\n",
    "        print(x)\n",
    "    elif x == 21:\n",
    "        print(x)\n",
    "    elif x == 22:\n",
    "        print(x)\n",
    "    elif x == 23:\n",
    "        print(x)\n",
    "    elif x == 24:\n",
    "        print(x)\n",
    "    elif x == 25:\n",
    "        print(x)\n",
    "    elif x == 26:\n",
    "        print(x)\n",
    "    elif x == 27:\n",
    "        print(x)\n",
    "    elif x == 28:\n",
    "        print(x)\n",
    "    elif x == 29:\n",
    "        print(x)\n",
    "    elif x == 30:\n",
    "        print(x)\n",
    "    elif x == 31:\n",
    "        print(x)\n",
    "    elif x == 32:\n",
    "        print(x)\n",
    "    elif x == 33:\n",
    "        print(x)\n",
    "    elif x == 34:\n",
    "        print(x)\n",
    "    elif x == 35:\n",
    "        print(x)\n",
    "    elif x == 36:\n",
    "        print(x)\n",
    "    elif 0 < x < 1 or 2 < x < 3 or 4 < x < 5 or 6 < x < 7 or 8 < x < 9 or 11 < x < 12 or 13 < x < 14 or 15 < x < 16 or 17 < x < 18 or 18 < x < 19 or 20 < x < 21 or 22 < x < 23 or 24 < x < 25 or 26 < x < 27 or 29 < x < 30 or 31 < x < 32 or 33 < x < 34 or 35 < x < 36:\n",
    "        print(\"RED\")\n",
    "    elif 1 < x < 2 or 3 < x < 4 or 5 < x < 6 or 7 < x < 8 or 9 < x < 10 or 10 < x < 11 or 12 < x < 13 or 14 < x < 15 or 16 < x < 17 or 19 < x < 20 or 21 < x < 22 or 23 < x < 24 or 25 < x < 26 or 27 < x < 28 or 28 < x < 29 or 30 < x < 31 or 32 < x < 33 or 34 < x < 35:\n",
    "        print(\"BLACK\")\n",
    "    else:\n",
    "        print(x)    "
   ]
  },
  {
   "cell_type": "markdown",
   "metadata": {},
   "source": [
    "# Напишите код, проверяющий любую из теорем сложения или умножения вероятности на примере рулетки или подбрасывания монетки"
   ]
  },
  {
   "cell_type": "code",
   "execution_count": 43,
   "metadata": {},
   "outputs": [
    {
     "name": "stdout",
     "output_type": "stream",
     "text": [
      "5010\n",
      "4990\n",
      "1.0\n"
     ]
    }
   ],
   "source": [
    "orel = 0\n",
    "reshka = 0\n",
    "for i in range(0, 10000):\n",
    "    x = np.random.uniform(0, 10)\n",
    "    if x < 5:\n",
    "        orel += 1\n",
    "    else:\n",
    "        reshka += 1\n",
    "print(orel)\n",
    "print(reshka)\n",
    "print(orel / 10000 + reshka / 10000)"
   ]
  },
  {
   "cell_type": "markdown",
   "metadata": {},
   "source": [
    "# Сгенерируйте десять выборок случайных чисел х0, …, х9.  и постройте гистограмму распределения случайной суммы х0+х1+ …+ х9.\n"
   ]
  },
  {
   "cell_type": "code",
   "execution_count": 46,
   "metadata": {},
   "outputs": [
    {
     "name": "stdout",
     "output_type": "stream",
     "text": [
      "x 0  =  5.551643660303169\n",
      "x 1  =  6.062618476117948\n",
      "x 2  =  6.246957585156084\n",
      "x 3  =  5.557260611609201\n",
      "x 4  =  6.643884304071957\n",
      "x 5  =  4.232114603368645\n",
      "x 6  =  5.738388888960733\n",
      "x 7  =  4.226054263264622\n",
      "x 8  =  5.963904122995871\n",
      "x 9  =  5.3379016200095055\n",
      "[5.551643660303169, 6.062618476117948, 6.246957585156084, 5.557260611609201, 6.643884304071957, 4.232114603368645, 5.738388888960733, 4.226054263264622, 5.963904122995871, 5.3379016200095055]\n"
     ]
    },
    {
     "data": {
      "text/plain": [
       "Text(0.5, 1.0, 'Histogram')"
      ]
     },
     "execution_count": 46,
     "metadata": {},
     "output_type": "execute_result"
    },
    {
     "data": {
      "image/png": "[encoded data removed]",
      "text/plain": [
       "<Figure size 432x288 with 1 Axes>"
      ]
     },
     "metadata": {
      "needs_background": "light"
     },
     "output_type": "display_data"
    }
   ],
   "source": [
    "x = []\n",
    "for i in range(10):\n",
    "    xi = np.random.rand(10)\n",
    "    print('x',i,' = ',sum(xi))\n",
    "    x.append(sum(xi))\n",
    "print(x)\n",
    "num_bins = 5\n",
    "n, bins, pathes = plt.hist(x, num_bins)\n",
    "plt.xlabel('x')\n",
    "plt.ylabel('y')\n",
    "plt.title('Histogram')"
   ]
  },
  {
   "cell_type": "code",
   "execution_count": 37,
   "metadata": {},
   "outputs": [
    {
     "data": {
      "text/plain": [
       "numpy.ndarray"
      ]
     },
     "execution_count": 37,
     "metadata": {},
     "output_type": "execute_result"
    }
   ],
   "source": []
  },
  {
   "cell_type": "code",
   "execution_count": null,
   "metadata": {},
   "outputs": [],
   "source": []
  }
 ],
 "metadata": {
  "kernelspec": {
   "display_name": "Python 3",
   "language": "python",
   "name": "python3"
  },
  "language_info": {
   "codemirror_mode": {
    "name": "ipython",
    "version": 3
   },
   "file_extension": ".py",
   "mimetype": "text/x-python",
   "name": "python",
   "nbconvert_exporter": "python",
   "pygments_lexer": "ipython3",
   "version": "3.7.3"
  }
 },
 "nbformat": 4,
 "nbformat_minor": 2
}
